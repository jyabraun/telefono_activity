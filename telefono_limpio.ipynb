{
 "cells": [
  {
   "cell_type": "code",
   "execution_count": 1,
   "id": "4ed062ea",
   "metadata": {},
   "outputs": [],
   "source": [
    "import re"
   ]
  },
  {
   "cell_type": "markdown",
   "id": "3802589a",
   "metadata": {},
   "source": [
    "### Indicamos los números de teléfonos que pasarán por el programa de validación.\n"
   ]
  },
  {
   "cell_type": "code",
   "execution_count": 2,
   "id": "63c0e8fa",
   "metadata": {},
   "outputs": [],
   "source": [
    "telefono = [\"972-35-56-57\",\"(972)355-567\",\"972-355-567\",\"972 355 567\",\"972355567\",\"34 972 355 567\", \n",
    "            \"34 (972)355-567\",\"5555555\",\"123cwerwcercrr\",\"-34 972-35-36-57\"]"
   ]
  },
  {
   "cell_type": "markdown",
   "id": "cec73713",
   "metadata": {},
   "source": [
    "### Escribimos el programa."
   ]
  },
  {
   "cell_type": "code",
   "execution_count": 3,
   "id": "cf385273",
   "metadata": {},
   "outputs": [],
   "source": [
    "result=[]\n",
    "for numero in telefono:\n",
    "    if re.search(\"(^9[0-9]{8}$)|(^9[0-9]{2}([-]{1}[0-9]{2}){3}$)|(^\\({1}9{1}[0-9]{2}\\){1}[0-9]{3}-{1}[0-9]{3}$)|(^9{1}[0-9]{2}(-{1}[0-9]{3}){2}$)|(^9{1}[0-9]{2}(\\s{1}[0-9]{3}){2}$)|(^34{1}\\s{1}9{1}[0-9]{2}(\\s{1}[0-9]{3}){2}$)\",numero):\n",
    "        result.append([numero,True])\n",
    "    else:\n",
    "        result.append([numero,False])"
   ]
  },
  {
   "cell_type": "markdown",
   "id": "f9d9da8f",
   "metadata": {},
   "source": [
    "### Veamos los resultados."
   ]
  },
  {
   "cell_type": "code",
   "execution_count": 4,
   "id": "8c14732c",
   "metadata": {},
   "outputs": [
    {
     "name": "stdout",
     "output_type": "stream",
     "text": [
      "[['972-35-56-57', True], ['(972)355-567', True], ['972-355-567', True], ['972 355 567', True], ['972355567', True], ['34 972 355 567', True], ['34 (972)355-567', False], ['5555555', False], ['123cwerwcercrr', False], ['-34 972-35-36-57', False]]\n"
     ]
    }
   ],
   "source": [
    "print(result)"
   ]
  }
 ],
 "metadata": {
  "kernelspec": {
   "display_name": "Python 3",
   "language": "python",
   "name": "python3"
  },
  "language_info": {
   "codemirror_mode": {
    "name": "ipython",
    "version": 3
   },
   "file_extension": ".py",
   "mimetype": "text/x-python",
   "name": "python",
   "nbconvert_exporter": "python",
   "pygments_lexer": "ipython3",
   "version": "3.8.8"
  }
 },
 "nbformat": 4,
 "nbformat_minor": 5
}
